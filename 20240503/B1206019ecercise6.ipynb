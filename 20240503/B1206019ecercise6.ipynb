{
  "nbformat": 4,
  "nbformat_minor": 0,
  "metadata": {
    "colab": {
      "provenance": []
    },
    "kernelspec": {
      "name": "python3",
      "display_name": "Python 3"
    },
    "language_info": {
      "name": "python"
    }
  },
  "cells": [
    {
      "cell_type": "code",
      "execution_count": 38,
      "metadata": {
        "colab": {
          "base_uri": "https://localhost:8080/"
        },
        "id": "sx_5tDYAAp3L",
        "outputId": "04b74206-402a-4507-bd43-2fce50d2abac"
      },
      "outputs": [
        {
          "output_type": "stream",
          "name": "stdout",
          "text": [
            "聖誕樹高度=9\n",
            "        *\n",
            "       ***\n",
            "      *****\n",
            "     *******\n",
            "    *********\n",
            "   ***********\n",
            "  *************\n",
            " ***************\n",
            "*****************\n",
            "       ***\n",
            "       ***\n",
            "       ***\n",
            "       ***\n",
            "       ***\n"
          ]
        }
      ],
      "source": [
        "\n",
        "def high(a):\n",
        "  for i in range(a):\n",
        "    for j in range(a-i-1):\n",
        "        print(' ', end='')\n",
        "    for k in range(2*i+1):\n",
        "        print('*', end='')\n",
        "    print()\n",
        "  for i in range(a//2+1):\n",
        "    for j in range(a-2):\n",
        "        print(' ', end='')\n",
        "    print('***')\n",
        "b=int(input(\"聖誕樹高度=\"))\n",
        "high(b)"
      ]
    },
    {
      "cell_type": "code",
      "source": [
        "\n",
        "def BMI(kg,cm):\n",
        "  result = kg/(cm/100)**2\n",
        "  return result\n",
        "try:\n",
        "  cm=float(input(\"身高（公分）：\"))\n",
        "  kg=float(input(\"體重（公斤）：\"))\n",
        "  a = BMI(kg,cm)\n",
        "  print(\"BMI:\",a)\n",
        "  if a<18.5:\n",
        "    print(\"體位為:過輕\")\n",
        "  elif 18.5<=a<24:\n",
        "    print(\"體位為:適中\")\n",
        "  elif 24<=a<27:\n",
        "    print(\"體位為:過重\")\n",
        "  else:\n",
        "    print(\"體位為:肥胖\")\n",
        "\n",
        "except:\n",
        "  print(\"輸入內容錯誤\")\n",
        "\n",
        "\n"
      ],
      "metadata": {
        "colab": {
          "base_uri": "https://localhost:8080/"
        },
        "id": "yg7ZLSl-Arty",
        "outputId": "2854639a-9bd7-4cea-d4d2-cead399b198f"
      },
      "execution_count": 25,
      "outputs": [
        {
          "output_type": "stream",
          "name": "stdout",
          "text": [
            "身高（公分）：123\n",
            "體重（公斤）：i\n",
            "輸入內容錯誤\n"
          ]
        }
      ]
    }
  ]
}