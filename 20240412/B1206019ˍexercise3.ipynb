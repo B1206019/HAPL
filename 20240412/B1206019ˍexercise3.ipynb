{
  "nbformat": 4,
  "nbformat_minor": 0,
  "metadata": {
    "colab": {
      "provenance": []
    },
    "kernelspec": {
      "name": "python3",
      "display_name": "Python 3"
    },
    "language_info": {
      "name": "python"
    }
  },
  "cells": [
    {
      "cell_type": "code",
      "execution_count": 16,
      "metadata": {
        "colab": {
          "base_uri": "https://localhost:8080/"
        },
        "id": "9SqWQQ9-w6r4",
        "outputId": "8e51b1cf-be97-43b0-949c-59d7153e8661"
      },
      "outputs": [
        {
          "output_type": "stream",
          "name": "stdout",
          "text": [
            "請輸入您的體重（公斤）：85\n",
            "請輸入您的身高（公分）：185\n",
            "您的BMI為 24.835646457268076\n",
            "您的體位為:過重\n"
          ]
        }
      ],
      "source": [
        "kg=float(input(\"請輸入您的體重（公斤）：\"))\n",
        "cm=float(input(\"請輸入您的身高（公分）：\"))\n",
        "BMI=kg/(cm/100)**2\n",
        "print(\"您的BMI為\",BMI)\n",
        "if BMI<18.5:\n",
        "  print(\"您的體位為:過輕\")\n",
        "elif 18.5<=BMI<24:\n",
        "  print(\"您的體位為:適中\")\n",
        "elif 24<=BMI<27:\n",
        "  print(\"您的體位為:過重\")\n",
        "else:\n",
        "  print(\"您的體位為:肥胖\")"
      ]
    },
    {
      "cell_type": "code",
      "source": [
        "a=float(input(\"請輸入第一個數字:\"))\n",
        "operator=input(\"請輸入運算符號\")\n",
        "b=float(input(\"請輸入第二個數字:\"))\n",
        "if operator==\"+\":\n",
        "  print(a+b)\n",
        "elif operator==\"-\":\n",
        "  print(a-b)\n",
        "elif operator==\"*\":\n",
        "  print(a*b)\n",
        "elif operator==\"/\":\n",
        "  if b==0:\n",
        "    print(\"除數不能為零\")\n",
        "  else:\n",
        "    print(a/b)"
      ],
      "metadata": {
        "colab": {
          "base_uri": "https://localhost:8080/"
        },
        "id": "K1MqH0f32Hz3",
        "outputId": "bbabbef3-2b19-43df-a845-5d192401ebdb"
      },
      "execution_count": 29,
      "outputs": [
        {
          "output_type": "stream",
          "name": "stdout",
          "text": [
            "請輸入第一個數字:0\n",
            "請輸入運算符號/\n",
            "請輸入第二個數字:5\n",
            "0.0\n"
          ]
        }
      ]
    }
  ]
}