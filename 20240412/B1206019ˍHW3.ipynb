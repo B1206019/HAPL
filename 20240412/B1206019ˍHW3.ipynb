{
  "nbformat": 4,
  "nbformat_minor": 0,
  "metadata": {
    "colab": {
      "provenance": []
    },
    "kernelspec": {
      "name": "python3",
      "display_name": "Python 3"
    },
    "language_info": {
      "name": "python"
    }
  },
  "cells": [
    {
      "cell_type": "code",
      "execution_count": 14,
      "metadata": {
        "colab": {
          "base_uri": "https://localhost:8080/"
        },
        "id": "XAmXsqjb-vms",
        "outputId": "5a5e23ea-d000-40bc-feeb-9c7e3fee6129"
      },
      "outputs": [
        {
          "output_type": "stream",
          "name": "stdout",
          "text": [
            "年份為1700\n",
            "1700 是平年\n"
          ]
        }
      ],
      "source": [
        "year=int(input(\"年份為\"))\n",
        "if year<=1582:\n",
        "  if year%4==0:\n",
        "    print(year,\"是閏年\")\n",
        "  else:\n",
        "    print(year,\"是平年\")\n",
        "if year>1582:\n",
        "  if (year%4==0 and year%100!=0)or year%400==0:\n",
        "    print(year,\"是閏年\")\n",
        "  else:\n",
        "    print(year,\"是平年\")\n"
      ]
    },
    {
      "cell_type": "markdown",
      "source": [],
      "metadata": {
        "id": "nikkS5uEBW8H"
      }
    }
  ]
}