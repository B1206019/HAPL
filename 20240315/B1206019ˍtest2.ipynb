{
  "nbformat": 4,
  "nbformat_minor": 0,
  "metadata": {
    "colab": {
      "provenance": []
    },
    "kernelspec": {
      "name": "python3",
      "display_name": "Python 3"
    },
    "language_info": {
      "name": "python"
    }
  },
  "cells": [
    {
      "cell_type": "code",
      "execution_count": 4,
      "metadata": {
        "colab": {
          "base_uri": "https://localhost:8080/"
        },
        "id": "Np5xQHwvqwS3",
        "outputId": "d1312a78-7345-4e30-e105-3ad3791e3f62"
      },
      "outputs": [
        {
          "output_type": "stream",
          "name": "stdout",
          "text": [
            "ANS= 495\n"
          ]
        }
      ],
      "source": [
        "X=2;Y=1\n",
        "A=2*X\n",
        "B=A+Y\n",
        "Z=100-Y\n",
        "ANS=B*Z\n",
        "print(\"ANS=\",ANS)"
      ]
    },
    {
      "cell_type": "code",
      "source": [
        "y=4\n",
        "a=2*y\n",
        "b=a+1\n",
        "ans=100/b\n",
        "print(\"ans=\",ans)"
      ],
      "metadata": {
        "colab": {
          "base_uri": "https://localhost:8080/"
        },
        "id": "Jpl03hBcrxPk",
        "outputId": "6a97ac9a-45e7-4a99-8fd6-de3e91b8ef7c"
      },
      "execution_count": 5,
      "outputs": [
        {
          "output_type": "stream",
          "name": "stdout",
          "text": [
            "ans= 11.11111111111111\n"
          ]
        }
      ]
    }
  ]
}