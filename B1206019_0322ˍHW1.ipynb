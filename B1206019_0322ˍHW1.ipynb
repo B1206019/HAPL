{
  "nbformat": 4,
  "nbformat_minor": 0,
  "metadata": {
    "colab": {
      "provenance": []
    },
    "kernelspec": {
      "name": "python3",
      "display_name": "Python 3"
    },
    "language_info": {
      "name": "python"
    }
  },
  "cells": [
    {
      "cell_type": "code",
      "execution_count": 3,
      "metadata": {
        "colab": {
          "base_uri": "https://localhost:8080/"
        },
        "id": "Fp2hr-dd31a4",
        "outputId": "72c7497f-0e9e-4a6d-ff09-195c85ce30dc"
      },
      "outputs": [
        {
          "output_type": "stream",
          "name": "stdout",
          "text": [
            "I'm a student\n"
          ]
        }
      ],
      "source": [
        "print(\"I'm a student\")"
      ]
    },
    {
      "cell_type": "code",
      "source": [
        "print(\"假設A座標為(X1,Y1)、B座標為(X2,Y2)\")\n",
        "X1=int(input(\"X1=\"))\n",
        "Y1=int(input(\"Y1=\"))\n",
        "X2=int(input(\"X2=\"))\n",
        "Y2=int(input(\"Y2=\"))\n",
        "Z=(X1+X2)/2,(Y1+Y2)/2\n",
        "print(\"AB間的距離為\",Z)\n"
      ],
      "metadata": {
        "colab": {
          "base_uri": "https://localhost:8080/"
        },
        "id": "LikTaKD84Hgc",
        "outputId": "03d7aca7-75a2-4de1-a3f4-cfa2d5ec10b9"
      },
      "execution_count": 13,
      "outputs": [
        {
          "output_type": "stream",
          "name": "stdout",
          "text": [
            "假設A座標為(X1,Y1)、B座標為(X2,Y2)\n",
            "X1=5\n",
            "Y1=6\n",
            "X2=7\n",
            "Y2=8\n",
            "AB間的距離為 (6.0, 7.0)\n"
          ]
        }
      ]
    },
    {
      "cell_type": "code",
      "source": [
        "kg=float(input(\"請輸入您的體重（公斤）：\"))\n",
        "cm=float(input(\"請輸入您的身高（公分）：\"))\n",
        "BMI=kg/(cm/100)**2\n",
        "print(\"您的BMI為\",BMI)"
      ],
      "metadata": {
        "colab": {
          "base_uri": "https://localhost:8080/"
        },
        "id": "YGlf-duV7Ni0",
        "outputId": "4f513260-d801-4c16-c0c7-e68e88c8609e"
      },
      "execution_count": 16,
      "outputs": [
        {
          "output_type": "stream",
          "name": "stdout",
          "text": [
            "請輸入您的體重（公斤）：80\n",
            "請輸入您的身高（公分）：180\n",
            "您的BMI為 24.691358024691358\n"
          ]
        }
      ]
    }
  ]
}